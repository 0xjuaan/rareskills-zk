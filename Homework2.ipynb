{
 "cells": [
  {
   "cell_type": "markdown",
   "id": "2fda7503",
   "metadata": {},
   "source": [
    "# RareSkills Zero Knowledge Week 2\n",
    "\n",
    "\n",
    "## Modular arithmetic essentials\n",
    "### Benchmarks\n",
    "Here is how you do modular arithmetic in python. Run the two cells below and note how different their execution times are. You should use `pow` instead of doing modular arithmetic with the elementary operators."
   ]
  },
  {
   "cell_type": "code",
   "execution_count": null,
   "id": "6462ce3c",
   "metadata": {},
   "outputs": [],
   "source": [
    "import time\n",
    "\n",
    "s = time.time()\n",
    "ans = 1002583 ** 939001 % 2003951\n",
    "t = time.time()\n",
    "\n",
    "print(\"calculating {} took {:.2f} seconds\".format(ans, t - s))"
   ]
  },
  {
   "cell_type": "code",
   "execution_count": null,
   "id": "4d6986d8",
   "metadata": {},
   "outputs": [],
   "source": [
    "s = time.time()\n",
    "ans = pow(1002583,939001,2003951)\n",
    "t = time.time()\n",
    "\n",
    "print(\"calculating {} operation took {:.2f} seconds\".format(ans, t - s))"
   ]
  },
  {
   "cell_type": "markdown",
   "id": "78efe55b",
   "metadata": {},
   "source": [
    "### Encrypting a number\n",
    "\n",
    "If we start with a generator `g` and raise it to a power `s` mod `n`, then in general we cannot determine `s` even if `g` and `n` are known. This is the discrete logarithm problem.\n",
    "\n",
    "We can say we \"encrypt\" `s` using the scheme\n",
    "\n",
    "$$ E(s) = g^{s} \\pmod n $$\n",
    "\n",
    "But this means we need to choose `g` and `n` carefully. If `g` is 3, `s` is 2, and `n` is a large number, we can intelligently guess what `s` is in this case. We want to pick `g` and `n` such that all members \"wrap around.\" We won't concern ourselves with this here, but you should be aware of it. The other issue is not picking a sufficiently large `n`. "
   ]
  },
  {
   "cell_type": "markdown",
   "id": "583b81c1",
   "metadata": {},
   "source": [
    "### Computing the discrete logarithm\n",
    "If we do `s_p = g^s mod n`, and make `g` and `n` public, then it is infeasible to compute `s`. But this is only true if `n` is sufficiently large.\n",
    "\n",
    "In the following example, we provide `s_p`, `g`, and `n`. Use python to bruteforce the solution to find `s`."
   ]
  },
  {
   "cell_type": "markdown",
   "id": "bc033ace",
   "metadata": {},
   "source": [
    "$$g^{ac} = (g^{a})^{c} \\pmod p$$"
   ]
  },
  {
   "cell_type": "code",
   "execution_count": 2,
   "id": "cb7eb435",
   "metadata": {},
   "outputs": [],
   "source": [
    "n = 9551\n",
    "g = 5\n",
    "encrypted_number = 5666"
   ]
  },
  {
   "cell_type": "markdown",
   "id": "5dfd12b4",
   "metadata": {},
   "source": [
    "<font color='red'>**Assignment 1: Use python to bruteforce the solution to find `s`**</font>"
   ]
  },
  {
   "cell_type": "code",
   "execution_count": 3,
   "id": "d397aa7e",
   "metadata": {},
   "outputs": [
    {
     "name": "stdout",
     "output_type": "stream",
     "text": [
      "2531\n"
     ]
    }
   ],
   "source": [
    "# Your Solution and Answer Here\n",
    "student_solution = 0\n",
    "for i in range(n):\n",
    "    if pow(g, i, n) == 5666:\n",
    "        student_solution = i\n",
    "        break\n",
    "print(student_solution)"
   ]
  },
  {
   "cell_type": "code",
   "execution_count": 4,
   "id": "8fb84b98",
   "metadata": {},
   "outputs": [
    {
     "name": "stdout",
     "output_type": "stream",
     "text": [
      "student_solution is 2531\n"
     ]
    }
   ],
   "source": [
    "assert pow(g, student_solution, n) == encrypted_number\n",
    "print(\"student_solution is {}\".format(student_solution))"
   ]
  },
  {
   "cell_type": "markdown",
   "id": "adef384e",
   "metadata": {},
   "source": [
    "### Computing the discrete logarithm the smart way\n",
    "The smart way to do optimal algorithms is to [copy and paste from stackoverflow](https://stackoverflow.com/a/58665206/2079806). You do not have to understand how the library works\n",
    "\n",
    "<font color='red'>**Assignment 2: Break the cryptography below and obtain the secret number**</font>"
   ]
  },
  {
   "cell_type": "code",
   "execution_count": 5,
   "id": "d15cb7d8",
   "metadata": {},
   "outputs": [],
   "source": [
    "n = 1000004119\n",
    "g = 5\n",
    "encrypted_number = 767805982"
   ]
  },
  {
   "cell_type": "code",
   "execution_count": 7,
   "id": "62cdb28d",
   "metadata": {},
   "outputs": [],
   "source": [
    "# Your Solution and Answer Here\n",
    "from sympy.ntheory import discrete_log\n",
    "\n",
    "student_solution = discrete_log(n,encrypted_number , g)"
   ]
  },
  {
   "cell_type": "code",
   "execution_count": 8,
   "id": "b042bddd",
   "metadata": {},
   "outputs": [
    {
     "name": "stdout",
     "output_type": "stream",
     "text": [
      "student_solution is 420\n"
     ]
    }
   ],
   "source": [
    "assert pow(g, student_solution, n) == encrypted_number\n",
    "print(\"student_solution is {}\".format(student_solution))"
   ]
  },
  {
   "cell_type": "markdown",
   "id": "f6211e5b",
   "metadata": {},
   "source": [
    "## How Zero Knowledge Addition Works\n",
    "\n",
    "A Zero Knowledge Proof verifies a computation is true without revealing a the inputs to the computation.\n",
    "\n",
    "That is, if a + b = c, then we want a \"trapdoor function\" E(x) such that E(a)■E(b) = E(c) where ■ is the binary operator of the group E(x) is an element of.\n",
    "\n",
    "So to prove a + b = c without revealing a, b, or c, we apply A = E(a), B = E(b), C = E(c) and give (A, B, C) to a verifier.\n",
    "\n",
    "The verifier will then check A ■ B == C.\n",
    "\n",
    "Although they don't know the values A, B, and C \"came from\", they do know the unencrypted values form a valid sum."
   ]
  },
  {
   "cell_type": "markdown",
   "id": "89ac98bb",
   "metadata": {},
   "source": [
    "## Zero Knowledge Addition\n",
    "The following property is very important. It lets us verify the addition of numbers (integers under addition) using another group: $g^x \\pmod p$ under multiplication. Because of the discrete logarithm, we cannot easily go from $g^x \\pmod p$ to recover x.\n",
    "\n",
    "a + b = c is homomorphic to $g^ag^b = g^c \\pmod p$.\n",
    "\n",
    "$$ g^{a}g^{b} = g^{a + b} \\pmod n $$\n",
    "\n",
    "Try a few different values of `a` and `b` yourself to see it in action"
   ]
  },
  {
   "cell_type": "code",
   "execution_count": 10,
   "id": "f8869242",
   "metadata": {},
   "outputs": [
    {
     "name": "stdout",
     "output_type": "stream",
     "text": [
      "False\n"
     ]
    }
   ],
   "source": [
    "a = 214031242144124012 % n\n",
    "b = 8094293523502359235 % n\n",
    "print(pow(g, a, n) * pow(g, b, n) == pow(g, a + b, n))"
   ]
  },
  {
   "cell_type": "markdown",
   "id": "0545ba6d",
   "metadata": {},
   "source": [
    "Wait what?! That's supposed to be true?\n",
    "\n",
    "<font color='red'>**Assignment 3: The code above has a bug. What is the bug?**</font>"
   ]
  },
  {
   "cell_type": "code",
   "execution_count": 18,
   "id": "bbacb1ae",
   "metadata": {},
   "outputs": [
    {
     "name": "stdout",
     "output_type": "stream",
     "text": [
      "True\n"
     ]
    }
   ],
   "source": [
    "# Your corrected code here\n",
    "# Don't forget (mod n)\n",
    "print((pow(g, a, n) * pow(g, b, n))%n == pow(g, a + b, n) % n)"
   ]
  },
  {
   "cell_type": "markdown",
   "id": "3063b383",
   "metadata": {},
   "source": [
    "## Zero Knowledge Subtraction\n",
    "We can also encrypt the operation a - b. This is the same as \n",
    "\n",
    "$$ g^{a}g^{-b} = g^{a-b} $$\n",
    "\n",
    "But we can't just stick a negative sign in front of the exponent"
   ]
  },
  {
   "cell_type": "code",
   "execution_count": 25,
   "id": "10c8172d",
   "metadata": {},
   "outputs": [
    {
     "data": {
      "text/plain": [
       "1.6619797259514097e-09"
      ]
     },
     "execution_count": 25,
     "metadata": {},
     "output_type": "execute_result"
    }
   ],
   "source": [
    "g = 57\n",
    "n = 101\n",
    "g ** -5 % n"
   ]
  },
  {
   "cell_type": "markdown",
   "id": "80d0eb92",
   "metadata": {},
   "source": [
    "The above is not an integer! However, python is smart enough to know what you are doing if you use `pow`. To test this, we expect\n",
    "\n",
    "$$ g^{-a}g^{a} = 1 $$\n",
    "\n",
    "because g^0 is 1, and `a - a = 0`."
   ]
  },
  {
   "cell_type": "code",
   "execution_count": 31,
   "id": "dde06b67",
   "metadata": {},
   "outputs": [
    {
     "data": {
      "text/plain": [
       "True"
      ]
     },
     "execution_count": 31,
     "metadata": {},
     "output_type": "execute_result"
    }
   ],
   "source": [
    "a = 22\n",
    "pow(g, a, n) * pow(g, -a, n) % n == 1"
   ]
  },
  {
   "cell_type": "markdown",
   "id": "eba6db1a",
   "metadata": {},
   "source": [
    "So what magic is happening behind the scenes? The formula below is used to compute the modular inverse.\n",
    "\n",
    "$$ a^{-1} = a^{n - 2} \\pmod n $$"
   ]
  },
  {
   "cell_type": "code",
   "execution_count": 36,
   "id": "2ea5a6ba",
   "metadata": {},
   "outputs": [
    {
     "data": {
      "text/plain": [
       "True"
      ]
     },
     "execution_count": 36,
     "metadata": {},
     "output_type": "execute_result"
    }
   ],
   "source": [
    "a_inv = a ** (n - 2) % n\n",
    "a_inv * a % n == 1"
   ]
  },
  {
   "cell_type": "markdown",
   "id": "deadcf09",
   "metadata": {},
   "source": [
    "## Multiplication by a constant\n",
    "Multiplication by a constant is really just repeated addition\n",
    "\n",
    "$$ (g^{a})^{4} = g^{a} g^{a} g^{a} g^{a} $$\n",
    "\n",
    "This allows us to \"multiply by a constant\" in a zero knowledge fashion."
   ]
  },
  {
   "cell_type": "code",
   "execution_count": 40,
   "id": "21390185",
   "metadata": {},
   "outputs": [
    {
     "data": {
      "text/plain": [
       "True"
      ]
     },
     "execution_count": 40,
     "metadata": {},
     "output_type": "execute_result"
    }
   ],
   "source": [
    "a = 15\n",
    "pow(g, a, n) * pow(g, a, n) * pow(g, a, n) * pow(g, a, n) % n == pow(g, a * 4, n)"
   ]
  },
  {
   "cell_type": "markdown",
   "id": "d8854703",
   "metadata": {},
   "source": [
    "Of course, it would be annoying to multiply like that if you have a big coefficient, so the following is better"
   ]
  },
  {
   "cell_type": "code",
   "execution_count": 41,
   "id": "9704397d",
   "metadata": {},
   "outputs": [
    {
     "data": {
      "text/plain": [
       "True"
      ]
     },
     "execution_count": 41,
     "metadata": {},
     "output_type": "execute_result"
    }
   ],
   "source": [
    "pow(pow(g, a, n), 4 , n) == pow(g, a * 4, n)"
   ]
  },
  {
   "cell_type": "markdown",
   "id": "37dd20e6",
   "metadata": {},
   "source": [
    "## I know the solution to a systems of equations\n",
    "\n",
    "Now you should be able to prove to me that you know the solution to in a zero knowledge fashion\n",
    "\n",
    "$$\n",
    "2x + 8y = 7944\\\\\n",
    "5x + 3y = 4764\n",
    "$$\n",
    "\n",
    "<font color='red'>**Assignment 4: conver the above equation to a zk proof system where you can prove to a verifier (with an agreed upon g and n) that you know the solution to an agreed upon system of equation, without revealing the solution**</font>"
   ]
  },
  {
   "cell_type": "code",
   "execution_count": 11,
   "id": "54387552",
   "metadata": {},
   "outputs": [
    {
     "name": "stdout",
     "output_type": "stream",
     "text": [
      "13 0\n"
     ]
    }
   ],
   "source": [
    "\"\"\"Part 1: Solving the equation\"\"\"\n",
    "\n",
    "import numpy as np\n",
    "import galois\n",
    "\n",
    "\n",
    "g = 5\n",
    "n = 71\n",
    "\n",
    "n = 37\n",
    "\n",
    "GF = galois.GF(n)\n",
    "\n",
    "A = GF([[2, 8], \n",
    "        [5, 3]])\n",
    "\n",
    "B = GF([7944 % n, 4764 % n])\n",
    "\n",
    "# Now solve the equation Av = B (v = [x, y])\n",
    "\n",
    "[x, y] = np.linalg.solve(A, B)\n",
    "\n",
    "# Convert to int\n",
    "x = int(x)\n",
    "y = int(y)\n",
    "\n",
    "print(x, y)\n",
    "\n",
    "# Assert that these x,y values satisfy the simultaneous equations\n",
    "assert((2*x + 8*y) % n == 7944 % n)\n",
    "assert((5*x + 3*y) % n == 4764 % n)"
   ]
  },
  {
   "cell_type": "code",
   "execution_count": 5,
   "id": "60bfa1a2",
   "metadata": {},
   "outputs": [
    {
     "name": "stdout",
     "output_type": "stream",
     "text": [
      "1634636351\n",
      "124876100\n",
      "815661965\n"
     ]
    },
    {
     "ename": "AssertionError",
     "evalue": "",
     "output_type": "error",
     "traceback": [
      "\u001b[0;31m---------------------------------------------------------------------------\u001b[0m",
      "\u001b[0;31mAssertionError\u001b[0m                            Traceback (most recent call last)",
      "Cell \u001b[0;32mIn[5], line 21\u001b[0m\n\u001b[1;32m     18\u001b[0m \u001b[38;5;28mprint\u001b[39m(\u001b[38;5;28mpow\u001b[39m(g, \u001b[38;5;241m4764\u001b[39m, n))\n\u001b[1;32m     19\u001b[0m \u001b[38;5;28mprint\u001b[39m((\u001b[38;5;28mpow\u001b[39m(gx, \u001b[38;5;241m79445\u001b[39m, n) \u001b[38;5;241m*\u001b[39m \u001b[38;5;28mpow\u001b[39m(gy, \u001b[38;5;241m3\u001b[39m, n)) \u001b[38;5;241m%\u001b[39m n)\n\u001b[0;32m---> 21\u001b[0m \u001b[38;5;28;01massert\u001b[39;00m((\u001b[38;5;28mpow\u001b[39m(gx, \u001b[38;5;241m2\u001b[39m, n) \u001b[38;5;241m*\u001b[39m \u001b[38;5;28mpow\u001b[39m(gy, \u001b[38;5;241m8\u001b[39m, n)) \u001b[38;5;241m%\u001b[39m n \u001b[38;5;241m==\u001b[39m \u001b[38;5;28mpow\u001b[39m(g, \u001b[38;5;241m4764\u001b[39m, n))\n\u001b[1;32m     23\u001b[0m \u001b[38;5;28;01massert\u001b[39;00m((\u001b[38;5;28mpow\u001b[39m(gx, \u001b[38;5;241m79445\u001b[39m, n) \u001b[38;5;241m*\u001b[39m \u001b[38;5;28mpow\u001b[39m(gy, \u001b[38;5;241m3\u001b[39m, n)) \u001b[38;5;241m%\u001b[39m n \u001b[38;5;241m==\u001b[39m \u001b[38;5;28mpow\u001b[39m(g, \u001b[38;5;241m4764\u001b[39m, n))\n",
      "\u001b[0;31mAssertionError\u001b[0m: "
     ]
    }
   ],
   "source": [
    "\n",
    "\"\"\"Part 2: Prover land\"\"\"\n",
    "# So I want to prove that I know x, y that satisfy the equations without giving away x,y\n",
    "# Well I know that the system should be homomorphic to:\n",
    "# g^2x * g^8y = g^7944 (mod n)\n",
    "# g^5x * g^3y = g^4764 (mod n)\n",
    "# So I can provide g^x (mod n) and g^y (mod n), tell him to compute the above\n",
    "\n",
    "# Public values to give to verifier:\n",
    "gx = pow(g, x, n) # g^x (mod n)\n",
    "gy = pow(g, y, n) # g^y (mod n)\n",
    "\n",
    "\"\"\"Part 3: Verifier land\"\"\"\n",
    "# This prover has given me gx and gy, but i have no clue what x or y is (discrete log problem)\n",
    "\n",
    "# I can still check the equation in g^x (mod n) land, and know that he knows the solution\n",
    "\n",
    "print((pow(gx, 2, n) * pow(gy, 8, n)) % n)\n",
    "print(pow(g, 4764, n))\n",
    "print((pow(gx, 79445, n) * pow(gy, 3, n)) % n)\n",
    "\n",
    "assert((pow(gx, 2, n) * pow(gy, 8, n)) % n == pow(g, 4764, n))\n",
    "\n",
    "assert((pow(gx, 79445, n) * pow(gy, 3, n)) % n == pow(g, 4764, n))"
   ]
  },
  {
   "cell_type": "markdown",
   "id": "0c7a9d38",
   "metadata": {},
   "source": [
    "## Convert a rational number to a finite field element\n",
    "\n",
    "<font color='red'>**Assignment 5: Compute 53/192 + 61/511 (mod 1033) in python. Show your work. You are not required to implement euclid's algorithm. Show it is equal to the original rational number sum: https://www.wolframalpha.com/input?i=53%2F192+%2B+61%2F511**</font>"
   ]
  },
  {
   "cell_type": "code",
   "execution_count": null,
   "id": "b9567643",
   "metadata": {},
   "outputs": [
    {
     "name": "stdout",
     "output_type": "stream",
     "text": [
      "514\n",
      "514\n"
     ]
    }
   ],
   "source": [
    "p = 1033\n",
    "# a = (53 * pow(192, p-2, p) + 61*pow(511, p-2, p)) % p\n",
    "a  = (53 * pow(192, -1, p) + 61*pow(511, -1, p)) % p\n",
    "\n",
    "print(a) # 514\n",
    "\n",
    "print((38795 * pow(98112, -1, p)) % p)\n",
    "\n",
    "assert(a == (38795 * pow(98112, -1, p)) % p)"
   ]
  }
 ],
 "metadata": {
  "kernelspec": {
   "display_name": "Python 3 (ipykernel)",
   "language": "python",
   "name": "python3"
  },
  "language_info": {
   "codemirror_mode": {
    "name": "ipython",
    "version": 3
   },
   "file_extension": ".py",
   "mimetype": "text/x-python",
   "name": "python",
   "nbconvert_exporter": "python",
   "pygments_lexer": "ipython3",
   "version": "3.11.2"
  }
 },
 "nbformat": 4,
 "nbformat_minor": 5
}
