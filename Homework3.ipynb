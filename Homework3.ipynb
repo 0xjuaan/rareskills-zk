{
 "cells": [
  {
   "cell_type": "markdown",
   "metadata": {},
   "source": [
    "### Libraries"
   ]
  },
  {
   "cell_type": "code",
   "execution_count": 26,
   "metadata": {},
   "outputs": [],
   "source": [
    "import numpy as np\n",
    "import galois\n",
    "from ecpy.curves import Curve, Point\n",
    "from eth_hash.auto import keccak\n",
    "from eth_keys import keys\n"
   ]
  },
  {
   "cell_type": "markdown",
   "metadata": {},
   "source": [
    "### Setup"
   ]
  },
  {
   "cell_type": "code",
   "execution_count": 27,
   "metadata": {},
   "outputs": [],
   "source": [
    "cv = Curve.get_curve('secp256k1')\n",
    "gen = cv.generator\n",
    "\n",
    "order = cv.order"
   ]
  },
  {
   "cell_type": "code",
   "execution_count": 28,
   "metadata": {},
   "outputs": [
    {
     "name": "stdout",
     "output_type": "stream",
     "text": [
      "0xc39595b7fe0d7d122410f38ba9d4671007d93b93\n"
     ]
    }
   ],
   "source": [
    "pkey = 0x2839467304643546456\n",
    "\n",
    "pub = pkey * gen\n",
    "\n",
    "def pub_to_address(pub):\n",
    "    concat_x_y = pub.x.to_bytes(32, byteorder='big') + pub.y.to_bytes(32, byteorder='big')\n",
    "    return keccak(concat_x_y).hex()[24:]\n",
    "\n",
    "# eth address\n",
    "print(\"0x\" + pub_to_address(pub))"
   ]
  },
  {
   "cell_type": "code",
   "execution_count": 29,
   "metadata": {},
   "outputs": [
    {
     "name": "stdout",
     "output_type": "stream",
     "text": [
      "84576065444967005099065822339142728499441734689764049427372598653897581749784 97174227634380922565079176658682006002095407341521945574888355189519552826370\n"
     ]
    }
   ],
   "source": [
    "# Signing (Making a proof that pkey acknowledged that msg)\n",
    "def sign(message, privateKey):\n",
    "\n",
    "    if (type(message) == type(\"hi\")):\n",
    "        h = int.from_bytes(keccak(message.encode('utf-8')), 'big')\n",
    "    else:\n",
    "        h = int.from_bytes(keccak(message.to_bytes(32, 'big')), 'big')\n",
    "\n",
    "    k = pow(0x128431824, 0x4244124, order)\n",
    "    \n",
    "    # R is a random point, cannot reverse-engineer k due to the ECDLP difficulty\n",
    "    R = k*gen\n",
    "    r = R.x\n",
    "\n",
    "    # note that if k is known, then the private key can be reverse-engineered\n",
    "    s = pow(k, -1, order) * (h + privateKey*r) % order\n",
    "\n",
    "    return (r, s)\n",
    "\n",
    "(r, s) = sign(\"$100\", pkey) \n",
    "print(r, s)"
   ]
  },
  {
   "cell_type": "code",
   "execution_count": 30,
   "metadata": {},
   "outputs": [
    {
     "name": "stdout",
     "output_type": "stream",
     "text": [
      "True\n",
      "True\n"
     ]
    }
   ],
   "source": [
    "# Verifying\n",
    "def verify(message, r, s):\n",
    "    if (type(message) == type(\"hi\")):\n",
    "        h = int.from_bytes(keccak(message.encode('utf-8')), 'big')\n",
    "    else:\n",
    "        h = int.from_bytes(keccak(message.to_bytes(32, 'big')), 'big')\n",
    "\n",
    "    s_inv = pow(s, -1, order)\n",
    "\n",
    "    R_used = ((h*s_inv)*gen + (r*s_inv)*pub)\n",
    "\n",
    "    return (R_used.x == r)\n",
    "\n",
    "print(verify(\"$100\", r, s))\n",
    "print(verify(\"$100\", r, order - s))"
   ]
  },
  {
   "cell_type": "code",
   "execution_count": 31,
   "metadata": {},
   "outputs": [
    {
     "name": "stdout",
     "output_type": "stream",
     "text": [
      "the signer is either one of:\n",
      " ['0x0071544abbe8ecfe4014f44f0b0b852722517b57', '0xc39595b7fe0d7d122410f38ba9d4671007d93b93']\n"
     ]
    }
   ],
   "source": [
    "# ecrecover (kinda since idk how the 'v' works yet)\n",
    "def ecrecover_almost(message, r, s):\n",
    "\n",
    "    if (type(message) == type(\"hi\")):\n",
    "        h = int.from_bytes(keccak(message.encode('utf-8')), 'big')\n",
    "    else:\n",
    "        h = int.from_bytes(keccak(message.to_bytes(32, 'big')), 'big')\n",
    "\n",
    "    r_inv = pow(r, -1, order)\n",
    "    R_y_0 = cv.y_recover(r, 0)\n",
    "    R_y_1 = cv.y_recover(r, 1)\n",
    "\n",
    "    R0 = Point(r, R_y_0, cv)\n",
    "    R1 = Point(r, R_y_1, cv)\n",
    "\n",
    "    Pub0 = r_inv*(s*R0 - h*gen)\n",
    "    Pub1 = r_inv*(s*R1 - h*gen)\n",
    "\n",
    "    return [\"0x\" + pub_to_address(Pub0), \"0x\" + pub_to_address(Pub1)]\n",
    "    \n",
    "print(\"the signer is either one of:\\n\", ecrecover_almost(\"$100\", r, s))"
   ]
  }
 ],
 "metadata": {
  "kernelspec": {
   "display_name": ".venv",
   "language": "python",
   "name": "python3"
  },
  "language_info": {
   "codemirror_mode": {
    "name": "ipython",
    "version": 3
   },
   "file_extension": ".py",
   "mimetype": "text/x-python",
   "name": "python",
   "nbconvert_exporter": "python",
   "pygments_lexer": "ipython3",
   "version": "3.11.2"
  }
 },
 "nbformat": 4,
 "nbformat_minor": 2
}
