{
 "cells": [
  {
   "cell_type": "code",
   "execution_count": 94,
   "metadata": {},
   "outputs": [
    {
     "name": "stdout",
     "output_type": "stream",
     "text": [
      "Requirement already satisfied: numpy in /Users/juans/.julia/conda/3/aarch64/lib/python3.10/site-packages (2.0.1)\n",
      "Requirement already satisfied: scipy in /Users/juans/.julia/conda/3/aarch64/lib/python3.10/site-packages (1.14.0)\n",
      "Requirement already satisfied: numpy<2.3,>=1.23.5 in /Users/juans/.julia/conda/3/aarch64/lib/python3.10/site-packages (from scipy) (2.0.1)\n"
     ]
    }
   ],
   "source": [
    "!pip install numpy\n",
    "!pip install scipy\n",
    "import numpy as np\n",
    "from scipy.interpolate import lagrange\n",
    "\n"
   ]
  },
  {
   "cell_type": "markdown",
   "metadata": {},
   "source": [
    "# Part 1 (Interpolate function)"
   ]
  },
  {
   "cell_type": "code",
   "execution_count": 95,
   "metadata": {},
   "outputs": [
    {
     "name": "stdout",
     "output_type": "stream",
     "text": [
      "       4         3         2\n",
      "18.38 x - 141.8 x + 317.6 x - 173.2 x + 21\n",
      "       4         3         2\n",
      "18.38 x - 141.8 x + 317.6 x - 173.2 x + 21\n"
     ]
    }
   ],
   "source": [
    "\n",
    "def interpolate(Y):\n",
    "    length = len(Y)\n",
    "    X = [x for x in range(length)]\n",
    "    return lagrange(X, Y)\n",
    "\n",
    "array = [1, 2, 5, 1, 2]\n",
    "factor = 21\n",
    "multipliedArray = [factor * i for i in array]\n",
    "print(factor * interpolate(array))\n",
    "print(interpolate(multipliedArray))\n",
    "\n",
    "#There is a homomorphism between the column vectors and polynomials\n",
    "#As a result, scalar multiplication can be done before or after the transformation\n",
    "#End result is same\n"
   ]
  },
  {
   "cell_type": "markdown",
   "metadata": {},
   "source": [
    "# Part 2 (R1CS->QAP over real numbers)"
   ]
  },
  {
   "cell_type": "code",
   "execution_count": 96,
   "metadata": {},
   "outputs": [],
   "source": [
    "import numpy as np\n",
    "import random\n",
    "\n",
    "#Define the matrices\n",
    "A = np.array([[0,0,3,0,0,0],\n",
    "               [0,0,0,0,1,0],\n",
    "               [0,0,1,0,0,0]])\n",
    "\n",
    "B = np.array([[0,0,1,0,0,0],\n",
    "               [0,0,0,1,0,0],\n",
    "               [0,0,0,5,0,0]])\n",
    "\n",
    "C = np.array([[0,0,0,0,1,0],\n",
    "               [0,0,0,0,0,1],\n",
    "               [-3,1,1,2,0,-1]])\n",
    "\n",
    "#pick values for x and y\n",
    "x = 100\n",
    "y = 100\n",
    "\n",
    "#this is our orignal formula\n",
    "out = 3 * x * x * y + 5 * x * y - x- 2*y + 3 # the witness vector with the intermediate variables inside\n",
    "v1 = 3*x*x\n",
    "v2 = v1 * y\n",
    "w = np.array([1, out, x, y, v1, v2])\n",
    "\n",
    "result = C.dot(w) == np.multiply(A.dot(w),B.dot(w))\n",
    "assert result.all(), \"result contains an inequality\""
   ]
  },
  {
   "cell_type": "code",
   "execution_count": 97,
   "metadata": {},
   "outputs": [
    {
     "name": "stdout",
     "output_type": "stream",
     "text": [
      "           2\n",
      "-2.96e+06 x + 5.93e+06 x + 3e+04\n",
      "           2\n",
      "-2.98e+04 x + 5.95e+04 x + 300\n",
      "     2\n",
      "200 x - 200 x + 100\n",
      "           4             3             2\n",
      "-5.96e+06 x + 1.786e+07 x - 1.482e+07 x + 5.89e+06 x + 3e+04\n",
      "   3     2\n",
      "1 x - 3 x + 2 x\n",
      "lhs            2\n",
      "-2.96e+06 x + 5.93e+06 x + 3e+04\n"
     ]
    }
   ],
   "source": [
    "#QAP By Hand\n",
    "\n",
    "#R1CS: Cw = Aw ⊙ Bw \n",
    "\"\"\"\n",
    "We have 3x6 matrices, and a 6x1 witness vector\n",
    "\n",
    "After multiplying, we should get a 3x1 vector\n",
    "\"\"\"\n",
    "\n",
    "# LHS:\n",
    "lhs = 0\n",
    "for i in range(len(C[0])):\n",
    "    lhs += interpolate(C[:, i]) * w[i] #Lets interpolate C to a polynomial!\n",
    "print(lhs)\n",
    "\n",
    "# RHS (first):\n",
    "first = 0\n",
    "for i in range(len(A[0])):\n",
    "    first += interpolate(A[:, i]) * w[i] #Lets interpolate A to a polynomial!\n",
    "print(first)\n",
    "\n",
    "# RHS (second):\n",
    "second = 0\n",
    "for i in range(len(B[0])):\n",
    "    second += interpolate(B[:, i]) * w[i] #Lets interpolate B to a polynomial!\n",
    "print(second)\n",
    "\n",
    "print(first * second)\n",
    "\n",
    "\n",
    "t = np.poly1d([0, 1, 2], True)\n",
    "\n",
    "top = (first*second - lhs)\n",
    "print(t)\n",
    "h = ((first*second - lhs) / t)[0]\n",
    "\n",
    "assert(h * t == top) # clearly there was no remainder in the divison\n",
    "\n",
    "rhs = first*second\n",
    "i = random.randint(0, 421)\n",
    "\n",
    "assert(lhs(i) + t(i)*h(i) == rhs(i))\n",
    "\n",
    "print(\"lhs\", lhs)\n",
    "\n",
    "# Congratulations, you have proven that the R1CS holds for the witness w, \n",
    "# with an O(1) verification step (no need to check each row of matrix)"
   ]
  },
  {
   "cell_type": "markdown",
   "metadata": {},
   "source": [
    "# Unanswered question\n",
    "Q: Why exactly does u(x)*v(x) interpolate the same points as w(x)???\n",
    "\n",
    "Why does A ⊙ B map to a(x) * b(x)?\n"
   ]
  },
  {
   "cell_type": "markdown",
   "metadata": {},
   "source": [
    "### My notes on R1CS -> QAP\n",
    "\n",
    "The R1CS was $ Aw ⊙ Bw == Cw $\n",
    "\n",
    "We have interpolated each column of the matrices before multiplication\n",
    "- $L(Aw) * L(Bw) == L(Cw)$\n",
    "- $u(x)*v(x) == w(x)$\n",
    "\n",
    "But remember: $Aw ⊙ Bw == Cw$ (So the vectors are the same, polynomials are different)\n",
    "\n",
    "Problem: $u*v$ is degree 4, $w(x$ is degree 2 (so the polynomials aint equal)\n",
    "\n",
    "What if we just changed the vectors in a way that polynomials change,\n",
    "\n",
    "but vector value is unchanged? (this bit ensures that the r1cs is still satisfied)\n",
    "\n",
    "Lets add the zero vector! (Interpolate first)\n",
    "\n",
    "The resulting polynomial will still interpolate same points as w(x) and u(x)*v(x)\n",
    "\n",
    "So, now we have $u(x)*v(x) == w(x) + b(x)$\n",
    "\n",
    "(You can calculate $b(x)$ as $u(x)*v(x) - w(x)$)\n",
    "\n",
    "The issue here- first assume the witness is wrong:\n",
    "- That means that $Aw ⊙ Bw == Cw$ is false\n",
    "- That means that $L(Cw)$ and $L(Aw) * L(Bw)$ would interpolate to different polynomials\n",
    "- This means that $u(x)*v(x)$ - $w(x)$ does not give a poly that interpolates 0 vector\n",
    "- But then we can still find $b(x)$ such that $u(x)*v(x)-w(x)-b(x) = 0$. false proof\n",
    "\n",
    "So we need to ENFORCE that $b(x)$ actually interpolates the 0 vector\n",
    "To do that, just give it the factors $x(x-1)(x-2)$\n",
    "\n",
    "so $b(x) = (x-1)(x-2)(x-3) * t(x)$\n",
    "\n",
    "Now, equation is $u(x)*v(x) == w(x) + (x)(x-1)(x-2)h(x)$\n",
    "\n",
    "Note that since $u(x)*v(x) - w(x)$ also interpolates [0,0,0], it also has those 3 factors\n",
    "\n",
    "So: $h(x) = \\frac{u(x)*v(x) - w(x)}{[(x)(x-1)(x-2)]}$"
   ]
  },
  {
   "cell_type": "markdown",
   "metadata": {},
   "source": [
    "# Part 3 (QAP over finite field)"
   ]
  },
  {
   "cell_type": "code",
   "execution_count": 127,
   "metadata": {},
   "outputs": [],
   "source": [
    "import galois\n",
    "p = 41\n",
    "gf = galois.GF(p)\n",
    "\n",
    "\n",
    "#R1CS: Aw ⊙ Bw = Cw\n",
    "\n",
    "# Interpolation\n",
    "\n",
    "def interpolate(col):\n",
    "    X = gf(np.array([x for x in range(len(col))]))\n",
    "    return galois.lagrange_poly(X, gf(col))\n"
   ]
  },
  {
   "cell_type": "code",
   "execution_count": 128,
   "metadata": {},
   "outputs": [
    {
     "name": "stdout",
     "output_type": "stream",
     "text": [
      "x^3 + 38x^2 + 2x\n",
      "1\n"
     ]
    }
   ],
   "source": [
    "t = galois.Poly([1, 0], field = gf) * galois.Poly([1, p - 1], field = gf) * galois.Poly([1, p - 2], field = gf)\n",
    "\n",
    "def compute_poly(matrix, w):\n",
    "    poly = galois.Poly([0], field=gf)\n",
    "    for i in range(len(matrix[0])):\n",
    "        interpolated_poly = interpolate(gf(matrix[:, i] % p))\n",
    "        poly += interpolated_poly * gf(w[i]%p)  # Interpolate and add in GF(79)\n",
    "    return poly\n",
    "print(t)\n",
    "print(galois.Poly([w[0]], field=gf))\n",
    "\n",
    "# Initialize LHS in GF(79)\n",
    "rhs = compute_poly(C, w)\n",
    "lhs = compute_poly(A, w) * compute_poly(B, w)\n",
    "\n",
    "h = (lhs - rhs) // t\n",
    "assert(h*t == lhs - rhs)\n",
    "\n",
    "# QAP Assertion\n",
    "r = random.randint(0, p-1)\n",
    "\n",
    "assert(lhs(r) == rhs(r) + h(r)*t(r))\n",
    "    \n",
    "\n"
   ]
  }
 ],
 "metadata": {
  "kernelspec": {
   "display_name": "base",
   "language": "python",
   "name": "python3"
  },
  "language_info": {
   "codemirror_mode": {
    "name": "ipython",
    "version": 3
   },
   "file_extension": ".py",
   "mimetype": "text/x-python",
   "name": "python",
   "nbconvert_exporter": "python",
   "pygments_lexer": "ipython3",
   "version": "3.10.14"
  }
 },
 "nbformat": 4,
 "nbformat_minor": 2
}
