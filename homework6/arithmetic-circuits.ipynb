{
 "cells": [
  {
   "cell_type": "markdown",
   "metadata": {},
   "source": [
    "### Problem 1\n",
    "Create an arithmetic circuit that takes signals `x₁, x₂, ..., xₙ` and is satisfied if _at least one_ signal is 0.\n"
   ]
  },
  {
   "cell_type": "code",
   "execution_count": null,
   "metadata": {},
   "outputs": [],
   "source": [
    "# Constraint: x1*x2*...xn === 0"
   ]
  },
  {
   "cell_type": "markdown",
   "metadata": {},
   "source": [
    "### Problem 2\n",
    "Create an arithmetic circuit that takes signals `x₁, x₂, ..., xₙ` and is satisfied if all are 1.\n"
   ]
  },
  {
   "cell_type": "code",
   "execution_count": null,
   "metadata": {},
   "outputs": [],
   "source": [
    "# x1 - 1 === 0\n",
    "# x2 - 1 === 0\n",
    "# ...\n",
    "# xn - 1 === 0\n",
    "\n",
    "# Alternatively: x1*x2*...xn === 1"
   ]
  },
  {
   "cell_type": "markdown",
   "metadata": {},
   "source": [
    "### Problem 3\n",
    "A bipartite graph is a graph that can be colored with two colors such that no two neighboring nodes share the same color. Devise an arithmetic circuit scheme to show you have a valid witness of a 2-coloring of a graph. Hint: the scheme in this tutorial needs to be adjusted before it will work with a 2-coloring.\n"
   ]
  },
  {
   "cell_type": "code",
   "execution_count": null,
   "metadata": {},
   "outputs": [],
   "source": [
    "# Two colours: 0, 1\n",
    "# Each node is v1, v2, ... vn\n",
    "\n",
    "# First, we require each node to be coloured with either 0 or 1\n",
    "\"\"\"\n",
    "v1(v1 - 1) === 0\n",
    "v2(v2 - 1) === 0\n",
    "...\n",
    "vn(vn - 1) === 0\n",
    "\"\"\"\n",
    "\n",
    "# Then, we require each node's neighbour to not be the same (we need XOR to be true)\n",
    "# t = XOR(a,b) can be represented via the equation t ==== a + b - 2a*b\n",
    "\n",
    "\"\"\"\n",
    "For each edge (va, vb), we require:\n",
    "1 === va + vb - 2va*vb\n",
    "\"\"\""
   ]
  },
  {
   "cell_type": "markdown",
   "metadata": {},
   "source": [
    "### Question 4\n",
    "\n",
    "Devise an arithmetic circuit that constrains `k` to be the maximum of `x`, `y`, or `z`. That is, `k` should be equal to `x` if `x` is the maximum value, and same for `y` and `z`."
   ]
  },
  {
   "cell_type": "code",
   "execution_count": null,
   "metadata": {},
   "outputs": [],
   "source": [
    "# First lets say we need k = max(x, y)\n",
    "\n",
    "# First we need to pick n, such that x,y < 2^n\n",
    "\n",
    "# let A = x >= y (1 or 0)\n",
    "# Then k === Ax + (1-A)y\n",
    "\n",
    "# A = most significant bit of (2^n-1) + (x - y)\n",
    "\n",
    "# Now for k = max(x, y, z)\n",
    "# let \n",
    "# A = x >= y [Most significant bit of (2^n-1) + (x - y)]\n",
    "# B = y >= z, [Most significant bit of (2^n-1) + (y - z)]\n",
    "# C = z >= x, [Most significant bit of (2^n-1) + (z - x)]\n",
    "\n",
    "# Key Constraint:\n",
    "\n",
    "# k === A*B*(1-C)x + (1-A)*(B)(1-C)y + (1-B)*(1-A)(C)z\n",
    "\n",
    "# Explanation: if A^B^notC, then k = x. if B^notA^notC, then k = y.... same idea for z\n",
    "\n",
    "\n",
    "# Other constraints:\n",
    "# x < 2^n (so x = cn-1*2^n-1 + cn-2*2^n-2 + c0), where cn are all binary\n",
    "# same constraint for y, z"
   ]
  },
  {
   "cell_type": "markdown",
   "metadata": {},
   "source": [
    "### Question 5\n",
    "Create an arithmetic circuit that takes signals `x1`, `x2`, ..., `xn`, constrains them to be binary, and outputs 1 if at least one of the signals is 1"
   ]
  },
  {
   "cell_type": "code",
   "execution_count": null,
   "metadata": {},
   "outputs": [],
   "source": [
    "\"\"\"Binary constraint\n",
    "x1(x1 - 1) === 0\n",
    "x2(x2 - 2) === 0\n",
    "xn(xn - 1) === 0\n",
    "\"\"\"\n",
    "\n",
    "\"\"\" Additional constraint (At least one is 1) <---> (Not all are 0)\n",
    "(1 - x1)(1-x2)*...(1-xn) === 0\n",
    "\"\"\""
   ]
  },
  {
   "cell_type": "markdown",
   "metadata": {},
   "source": [
    "### Question 6\n",
    "Devise an arithmetic circuit to determine if a signal `v` is a power of two (1, 2, 4, 8, etc)"
   ]
  },
  {
   "cell_type": "code",
   "execution_count": null,
   "metadata": {},
   "outputs": [],
   "source": [
    "\"\"\"\n",
    "For n >= 0\n",
    "\n",
    "1 === b0 + b1 + b2 + ... bn    (Exactly 1 of them is 1)\n",
    "\n",
    "v === 1b0 + 2b1 + 4b2 + 8b3 + ... + (2^n)*bn\n",
    "\"\"\""
   ]
  },
  {
   "cell_type": "markdown",
   "metadata": {},
   "source": [
    "### Question 7"
   ]
  }
 ],
 "metadata": {
  "language_info": {
   "name": "python"
  }
 },
 "nbformat": 4,
 "nbformat_minor": 2
}
